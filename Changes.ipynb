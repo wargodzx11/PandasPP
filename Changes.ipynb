{
 "cells": [
  {
   "cell_type": "code",
   "execution_count": 33,
   "id": "574fe41b",
   "metadata": {},
   "outputs": [],
   "source": [
    "import pandas as pd\n",
    "from datetime import timedelta\n",
    "\n",
    "\n"
   ]
  },
  {
   "cell_type": "code",
   "execution_count": 34,
   "id": "7f49e276",
   "metadata": {},
   "outputs": [],
   "source": [
    "df = pd.read_csv('Changes.csv')"
   ]
  },
  {
   "cell_type": "code",
   "execution_count": 35,
   "id": "bb71dd79",
   "metadata": {},
   "outputs": [],
   "source": [
    "df['day'] = pd.to_datetime(df['day'])\n",
    "df = df.sort_values('day')"
   ]
  },
  {
   "cell_type": "code",
   "execution_count": 36,
   "id": "71ce3677",
   "metadata": {},
   "outputs": [
    {
     "data": {
      "text/plain": [
       "DatetimeIndex(['2024-11-16', '2024-10-12', '2024-09-10', '2024-02-20',\n",
       "               '2024-01-19', '2023-07-07', '2022-10-01'],\n",
       "              dtype='datetime64[ns]', freq=None)"
      ]
     },
     "execution_count": 36,
     "metadata": {},
     "output_type": "execute_result"
    }
   ],
   "source": [
    "release_dates = pd.to_datetime([\n",
    "    \"2024-11-16\", \"2024-10-12\", \"2024-09-10\",\n",
    "    \"2024-02-20\", \"2024-01-19\", \"2023-07-07\", \"2022-10-01\"\n",
    "])\n",
    "\n",
    "#release_dates = release_dates.strftime('%b %d, %Y')\n",
    "\n",
    "release_dates"
   ]
  },
  {
   "cell_type": "code",
   "execution_count": 41,
   "id": "4d19d5da",
   "metadata": {},
   "outputs": [],
   "source": [
    "def analyze_release_impact(df, release_date, intervals=60):\n",
    "    before = df[(df['day'] >= release_date - timedelta(days=intervals)) & \n",
    "                (df['day'] < release_date)]\n",
    "    \n",
    "    after = df[(df['day'] > release_date) & \n",
    "               (df['day'] <= release_date + timedelta(days=intervals))]\n",
    "    \n",
    "    before_avg = before['Users'].mean()\n",
    "    after_avg = after['Users'].mean()\n",
    "    diff = after_avg - before_avg if pd.notnull(after_avg) and pd.notnull(before_avg) else None\n",
    "    pct_change = (diff / before_avg * 100) if before_avg and diff is not None else None\n",
    "\n",
    "    return {\n",
    "        \"Release_Date\": release_date.strftime('%b %d, %Y'),\n",
    "        \"Before_Avg\": round(before_avg, 2) if pd.notnull(before_avg) else None,\n",
    "        \"After_Avg\": round(after_avg, 2) if pd.notnull(after_avg) else None,\n",
    "        \"Change\": round(diff, 2) if diff is not None else None,\n",
    "        \"Percent_Change\": round(pct_change, 2) if pct_change is not None else None,\n",
    "        \"Effect\":   (\n",
    "            \"Positive\" if diff and diff > 0 else\n",
    "            \"Negative\" if diff and diff < 0 else\n",
    "            \"Neutral\"\n",
    "        )\n",
    "    }\n"
   ]
  },
  {
   "cell_type": "code",
   "execution_count": 43,
   "id": "c3169617",
   "metadata": {},
   "outputs": [
    {
     "data": {
      "text/html": [
       "<style type=\"text/css\">\n",
       "</style>\n",
       "<table id=\"T_9e7f3\">\n",
       "  <thead>\n",
       "    <tr>\n",
       "      <th class=\"blank level0\" >&nbsp;</th>\n",
       "      <th id=\"T_9e7f3_level0_col0\" class=\"col_heading level0 col0\" >Release_Date</th>\n",
       "      <th id=\"T_9e7f3_level0_col1\" class=\"col_heading level0 col1\" >Before_Avg</th>\n",
       "      <th id=\"T_9e7f3_level0_col2\" class=\"col_heading level0 col2\" >After_Avg</th>\n",
       "      <th id=\"T_9e7f3_level0_col3\" class=\"col_heading level0 col3\" >Change</th>\n",
       "      <th id=\"T_9e7f3_level0_col4\" class=\"col_heading level0 col4\" >Percent_Change</th>\n",
       "      <th id=\"T_9e7f3_level0_col5\" class=\"col_heading level0 col5\" >Effect</th>\n",
       "    </tr>\n",
       "  </thead>\n",
       "  <tbody>\n",
       "    <tr>\n",
       "      <th id=\"T_9e7f3_level0_row0\" class=\"row_heading level0 row0\" >0</th>\n",
       "      <td id=\"T_9e7f3_row0_col0\" class=\"data row0 col0\" >Nov 16, 2024</td>\n",
       "      <td id=\"T_9e7f3_row0_col1\" class=\"data row0 col1\" >nan</td>\n",
       "      <td id=\"T_9e7f3_row0_col2\" class=\"data row0 col2\" >nan</td>\n",
       "      <td id=\"T_9e7f3_row0_col3\" class=\"data row0 col3\" >nan</td>\n",
       "      <td id=\"T_9e7f3_row0_col4\" class=\"data row0 col4\" >+nan%</td>\n",
       "      <td id=\"T_9e7f3_row0_col5\" class=\"data row0 col5\" >Neutral</td>\n",
       "    </tr>\n",
       "    <tr>\n",
       "      <th id=\"T_9e7f3_level0_row1\" class=\"row_heading level0 row1\" >1</th>\n",
       "      <td id=\"T_9e7f3_row1_col0\" class=\"data row1 col0\" >Oct 12, 2024</td>\n",
       "      <td id=\"T_9e7f3_row1_col1\" class=\"data row1 col1\" >nan</td>\n",
       "      <td id=\"T_9e7f3_row1_col2\" class=\"data row1 col2\" >nan</td>\n",
       "      <td id=\"T_9e7f3_row1_col3\" class=\"data row1 col3\" >nan</td>\n",
       "      <td id=\"T_9e7f3_row1_col4\" class=\"data row1 col4\" >+nan%</td>\n",
       "      <td id=\"T_9e7f3_row1_col5\" class=\"data row1 col5\" >Neutral</td>\n",
       "    </tr>\n",
       "    <tr>\n",
       "      <th id=\"T_9e7f3_level0_row2\" class=\"row_heading level0 row2\" >2</th>\n",
       "      <td id=\"T_9e7f3_row2_col0\" class=\"data row2 col0\" >Sep 10, 2024</td>\n",
       "      <td id=\"T_9e7f3_row2_col1\" class=\"data row2 col1\" >nan</td>\n",
       "      <td id=\"T_9e7f3_row2_col2\" class=\"data row2 col2\" >nan</td>\n",
       "      <td id=\"T_9e7f3_row2_col3\" class=\"data row2 col3\" >nan</td>\n",
       "      <td id=\"T_9e7f3_row2_col4\" class=\"data row2 col4\" >+nan%</td>\n",
       "      <td id=\"T_9e7f3_row2_col5\" class=\"data row2 col5\" >Neutral</td>\n",
       "    </tr>\n",
       "    <tr>\n",
       "      <th id=\"T_9e7f3_level0_row3\" class=\"row_heading level0 row3\" >3</th>\n",
       "      <td id=\"T_9e7f3_row3_col0\" class=\"data row3 col0\" >Feb 20, 2024</td>\n",
       "      <td id=\"T_9e7f3_row3_col1\" class=\"data row3 col1\" >843.82</td>\n",
       "      <td id=\"T_9e7f3_row3_col2\" class=\"data row3 col2\" >nan</td>\n",
       "      <td id=\"T_9e7f3_row3_col3\" class=\"data row3 col3\" >nan</td>\n",
       "      <td id=\"T_9e7f3_row3_col4\" class=\"data row3 col4\" >+nan%</td>\n",
       "      <td id=\"T_9e7f3_row3_col5\" class=\"data row3 col5\" >Neutral</td>\n",
       "    </tr>\n",
       "    <tr>\n",
       "      <th id=\"T_9e7f3_level0_row4\" class=\"row_heading level0 row4\" >4</th>\n",
       "      <td id=\"T_9e7f3_row4_col0\" class=\"data row4 col0\" >Jan 19, 2024</td>\n",
       "      <td id=\"T_9e7f3_row4_col1\" class=\"data row4 col1\" >880.63</td>\n",
       "      <td id=\"T_9e7f3_row4_col2\" class=\"data row4 col2\" >nan</td>\n",
       "      <td id=\"T_9e7f3_row4_col3\" class=\"data row4 col3\" >nan</td>\n",
       "      <td id=\"T_9e7f3_row4_col4\" class=\"data row4 col4\" >+nan%</td>\n",
       "      <td id=\"T_9e7f3_row4_col5\" class=\"data row4 col5\" >Neutral</td>\n",
       "    </tr>\n",
       "    <tr>\n",
       "      <th id=\"T_9e7f3_level0_row5\" class=\"row_heading level0 row5\" >5</th>\n",
       "      <td id=\"T_9e7f3_row5_col0\" class=\"data row5 col0\" >Jul 07, 2023</td>\n",
       "      <td id=\"T_9e7f3_row5_col1\" class=\"data row5 col1\" >987.70</td>\n",
       "      <td id=\"T_9e7f3_row5_col2\" class=\"data row5 col2\" >934.23</td>\n",
       "      <td id=\"T_9e7f3_row5_col3\" class=\"data row5 col3\" >-53.47</td>\n",
       "      <td id=\"T_9e7f3_row5_col4\" class=\"data row5 col4\" >-5.41%</td>\n",
       "      <td id=\"T_9e7f3_row5_col5\" class=\"data row5 col5\" >Negative</td>\n",
       "    </tr>\n",
       "    <tr>\n",
       "      <th id=\"T_9e7f3_level0_row6\" class=\"row_heading level0 row6\" >6</th>\n",
       "      <td id=\"T_9e7f3_row6_col0\" class=\"data row6 col0\" >Oct 01, 2022</td>\n",
       "      <td id=\"T_9e7f3_row6_col1\" class=\"data row6 col1\" >nan</td>\n",
       "      <td id=\"T_9e7f3_row6_col2\" class=\"data row6 col2\" >nan</td>\n",
       "      <td id=\"T_9e7f3_row6_col3\" class=\"data row6 col3\" >nan</td>\n",
       "      <td id=\"T_9e7f3_row6_col4\" class=\"data row6 col4\" >+nan%</td>\n",
       "      <td id=\"T_9e7f3_row6_col5\" class=\"data row6 col5\" >Neutral</td>\n",
       "    </tr>\n",
       "  </tbody>\n",
       "</table>\n"
      ],
      "text/plain": [
       "<pandas.io.formats.style.Styler at 0x23e721d2d50>"
      ]
     },
     "execution_count": 43,
     "metadata": {},
     "output_type": "execute_result"
    }
   ],
   "source": [
    "# Apply the analysis function to each release date\n",
    "analysis_results = [analyze_release_impact(df, date) for date in release_dates]\n",
    "\n",
    "# Convert to a DataFrame\n",
    "impact_df = pd.DataFrame(analysis_results)\n",
    "\n",
    "def highlight_effect(row):\n",
    "    if row['Effect'] == 'Positive':\n",
    "        return ['background-color: #d4edda'] * len(row)  # Light green\n",
    "    #elif row['Effect'] == 'Negative':\n",
    "        #return ['background-color: #f8d7da'] * len(row)  # Light red\n",
    "    else:\n",
    "        return [''] * len(row)\n",
    "\n",
    "# Format and style the DataFrame\n",
    "impact_df.style.apply(highlight_effect, axis=1).format({\n",
    "    'Before_Avg': '{:,.2f}',\n",
    "    'After_Avg': '{:,.2f}',\n",
    "    'Change': '{:,.2f}',\n",
    "    'Percent_Change': '{:+.2f}%'\n",
    "})\n",
    "\n",
    "\n",
    "# Display the result\n"
   ]
  }
 ],
 "metadata": {
  "kernelspec": {
   "display_name": "Python 3",
   "language": "python",
   "name": "python3"
  },
  "language_info": {
   "codemirror_mode": {
    "name": "ipython",
    "version": 3
   },
   "file_extension": ".py",
   "mimetype": "text/x-python",
   "name": "python",
   "nbconvert_exporter": "python",
   "pygments_lexer": "ipython3",
   "version": "3.13.5"
  }
 },
 "nbformat": 4,
 "nbformat_minor": 5
}
