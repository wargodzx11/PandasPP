{
 "cells": [
  {
   "cell_type": "code",
   "execution_count": 33,
   "id": "710a88d3",
   "metadata": {},
   "outputs": [],
   "source": [
    "import pandas as pd\n",
    "from datetime import timedelta"
   ]
  },
  {
   "cell_type": "code",
   "execution_count": 34,
   "id": "a8794e30",
   "metadata": {},
   "outputs": [],
   "source": [
    "pogi = pd.read_csv('Changes.csv')"
   ]
  },
  {
   "cell_type": "code",
   "execution_count": 50,
   "id": "56435c4e",
   "metadata": {},
   "outputs": [],
   "source": [
    "df = pd.DataFrame(pogi)"
   ]
  },
  {
   "cell_type": "code",
   "execution_count": 52,
   "id": "bb508f5c",
   "metadata": {},
   "outputs": [
    {
     "data": {
      "text/html": [
       "<div>\n",
       "<style scoped>\n",
       "    .dataframe tbody tr th:only-of-type {\n",
       "        vertical-align: middle;\n",
       "    }\n",
       "\n",
       "    .dataframe tbody tr th {\n",
       "        vertical-align: top;\n",
       "    }\n",
       "\n",
       "    .dataframe thead th {\n",
       "        text-align: right;\n",
       "    }\n",
       "</style>\n",
       "<table border=\"1\" class=\"dataframe\">\n",
       "  <thead>\n",
       "    <tr style=\"text-align: right;\">\n",
       "      <th></th>\n",
       "      <th>Type</th>\n",
       "      <th>Date</th>\n",
       "      <th>Users</th>\n",
       "    </tr>\n",
       "  </thead>\n",
       "  <tbody>\n",
       "    <tr>\n",
       "      <th>0</th>\n",
       "      <td>Minimum</td>\n",
       "      <td>2022-12-05</td>\n",
       "      <td>1</td>\n",
       "    </tr>\n",
       "    <tr>\n",
       "      <th>1</th>\n",
       "      <td>Maximum</td>\n",
       "      <td>2023-01-15</td>\n",
       "      <td>1400</td>\n",
       "    </tr>\n",
       "  </tbody>\n",
       "</table>\n",
       "</div>"
      ],
      "text/plain": [
       "      Type        Date  Users\n",
       "0  Minimum  2022-12-05      1\n",
       "1  Maximum  2023-01-15   1400"
      ]
     },
     "execution_count": 52,
     "metadata": {},
     "output_type": "execute_result"
    }
   ],
   "source": [
    "df['day'] = pd.to_datetime(df['day'])\n",
    "\n",
    "# Find rows with min and max Users\n",
    "min_row = df.loc[df['Users'].idxmin()]\n",
    "max_row = df.loc[df['Users'].idxmax()]\n",
    "\n",
    "# Create result table\n",
    "result_df = pd.DataFrame({\n",
    "    'Type': ['Minimum', 'Maximum'],\n",
    "    'Date': [min_row['day'].date(), max_row['day'].date()],\n",
    "    'Users': [min_row['Users'], max_row['Users']]\n",
    "})\n",
    "\n",
    "result_df"
   ]
  }
 ],
 "metadata": {
  "kernelspec": {
   "display_name": "Python 3",
   "language": "python",
   "name": "python3"
  },
  "language_info": {
   "codemirror_mode": {
    "name": "ipython",
    "version": 3
   },
   "file_extension": ".py",
   "mimetype": "text/x-python",
   "name": "python",
   "nbconvert_exporter": "python",
   "pygments_lexer": "ipython3",
   "version": "3.13.5"
  }
 },
 "nbformat": 4,
 "nbformat_minor": 5
}
